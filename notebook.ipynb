{
 "cells": [
  {
   "cell_type": "code",
   "execution_count": 1,
   "id": "bbac14bc",
   "metadata": {},
   "outputs": [],
   "source": [
    "# Sentiment Analysis on Reddit Posts\n",
    "#This notebook demonstrates data scraping, preprocessing, model training, and evaluation for sentiment analysis using Reddit posts."
   ]
  },
  {
   "cell_type": "code",
   "execution_count": null,
   "id": "3622d2cd",
   "metadata": {},
   "outputs": [],
   "source": [
    "# Import Libraries\n",
    "import praw\n",
    "import pandas as pd\n",
    "import nltk\n",
    "from nltk.sentiment import SentimentIntensityAnalyzer\n",
    "from sklearn.model_selection import train_test_split\n",
    "from sklearn.ensemble import RandomForestClassifier\n",
    "from sklearn.metrics import classification_report, accuracy_score\n",
    "import matplotlib.pyplot as plt\n",
    "import seaborn as sns\n",
    "import config"
   ]
  },
  {
   "cell_type": "code",
   "execution_count": 2,
   "id": "54c225b0",
   "metadata": {},
   "outputs": [],
   "source": [
    "## 1. Initialize Reddit API\n",
    "#We use the `praw` library to connect to Reddit and scrape data."
   ]
  },
  {
   "cell_type": "code",
   "execution_count": null,
   "id": "85e9ad0a",
   "metadata": {},
   "outputs": [],
   "source": [
    "# Initialize Reddit API\n",
    "reddit = praw.Reddit(\n",
    "    client_id=config.REDDIT_CLIENT_ID,\n",
    "    client_secret=config.REDDIT_CLIENT_SECRET,\n",
    "    user_agent=config.REDDIT_USER_AGENT,\n",
    ")"
   ]
  },
  {
   "cell_type": "code",
   "execution_count": null,
   "id": "c0589f2f",
   "metadata": {},
   "outputs": [],
   "source": [
    "## 2. Data Scraping\n",
    "Define a function to scrape posts from a subreddit based on a keyword. Extract relevant details and store them in a DataFrame."
   ]
  },
  {
   "cell_type": "code",
   "execution_count": null,
   "id": "f1fd9bfb",
   "metadata": {},
   "outputs": [],
   "source": [
    "# Scraping function\n",
    "def scrape_reddit(subreddit_name, keyword, limit=100):\n",
    "    subreddit = reddit.subreddit(subreddit_name)\n",
    "    posts = []\n",
    "    for post in subreddit.search(keyword, limit=limit):\n",
    "        posts.append({\n",
    "            \"title\": post.title,\n",
    "            \"selftext\": post.selftext,\n",
    "            \"created_utc\": post.created_utc,\n",
    "            \"score\": post.score,\n",
    "            \"comments\": post.num_comments\n",
    "        })\n",
    "    return pd.DataFrame(posts)\n",
    "\n",
    "# Scrape data\n",
    "df = scrape_reddit(\"wallstreetbets\", \"stocks\", limit=500)\n",
    "df['created_date'] = pd.to_datetime(df['created_utc'], unit='s')\n",
    "\n",
    "# Save raw data for reference\n",
    "df.to_csv(\"reddit_data.csv\", index=False)\n",
    "df.head()"
   ]
  },
  {
   "cell_type": "code",
   "execution_count": null,
   "id": "926e0550",
   "metadata": {},
   "outputs": [],
   "source": [
    "## 3. Preprocessing and Sentiment Analysis\n",
    "Perform the following steps:\n",
    "1. Preprocess text data.\n",
    "2. Apply sentiment analysis using `SentimentIntensityAnalyzer`.\n",
    "3. Categorize sentiments into positive, negative, or neutral."
   ]
  },
  {
   "cell_type": "code",
   "execution_count": null,
   "id": "e718df44",
   "metadata": {},
   "outputs": [],
   "source": [
    "# Preprocessing\n",
    "nltk.download(\"vader_lexicon\")\n",
    "sia = SentimentIntensityAnalyzer()\n",
    "\n",
    "def preprocess_text(text):\n",
    "    if isinstance(text, str):\n",
    "        text = text.lower()\n",
    "        text = nltk.word_tokenize(text)\n",
    "        text = \" \".join([word for word in text if word.isalnum()])\n",
    "        return text\n",
    "    return \"\"\n",
    "\n",
    "df['cleaned_text'] = df['title'] + \" \" + df['selftext']\n",
    "df['cleaned_text'] = df['cleaned_text'].apply(preprocess_text)\n",
    "\n",
    "# Sentiment analysis\n",
    "df['sentiment'] = df['cleaned_text'].apply(lambda x: sia.polarity_scores(x)['compound'])\n",
    "df['sentiment_category'] = df['sentiment'].apply(\n",
    "    lambda x: 'positive' if x > 0.05 else ('negative' if x < -0.05 else 'neutral')\n",
    ")\n",
    "\n",
    "# Save processed data\n",
    "df.to_csv(\"processed_reddit_data.csv\", index=False)\n",
    "df.head()"
   ]
  },
  {
   "cell_type": "code",
   "execution_count": null,
   "id": "e727e6ae",
   "metadata": {},
   "outputs": [],
   "source": [
    "## 4. Feature Engineering\n",
    "Prepare features for model training and encode sentiment categories as numerical labels."
   ]
  },
  {
   "cell_type": "code",
   "execution_count": null,
   "id": "1c0d4668",
   "metadata": {},
   "outputs": [],
   "source": [
    "# Feature engineering\n",
    "df['sentiment_label'] = df['sentiment_category'].map({'negative': 0, 'neutral': 1, 'positive': 2})\n",
    "X = df[['sentiment', 'score', 'comments']]\n",
    "y = df['sentiment_label']"
   ]
  },
  {
   "cell_type": "code",
   "execution_count": null,
   "id": "44b8e193",
   "metadata": {},
   "outputs": [],
   "source": [
    "## 5. Model Training and Evaluation\n",
    "Split the data, train a Random Forest model, and evaluate its performance."
   ]
  },
  {
   "cell_type": "code",
   "execution_count": null,
   "id": "fc6c3f05",
   "metadata": {},
   "outputs": [],
   "source": [
    "# Train/test split\n",
    "X_train, X_test, y_train, y_test = train_test_split(X, y, test_size=0.2, random_state=42)\n",
    "\n",
    "# Model training\n",
    "model = RandomForestClassifier(n_estimators=100, random_state=42)\n",
    "model.fit(X_train, y_train)\n",
    "\n",
    "# Predictions\n",
    "y_pred = model.predict(X_test)\n",
    "\n",
    "# Evaluation\n",
    "print(\"Classification Report:\")\n",
    "print(classification_report(y_test, y_pred))\n",
    "print(\"Accuracy:\", accuracy_score(y_test, y_pred))"
   ]
  },
  {
   "cell_type": "code",
   "execution_count": null,
   "id": "863724c4",
   "metadata": {},
   "outputs": [],
   "source": [
    "## 6. Visualizations\n",
    "### 6.1 Sentiment Distribution\n",
    "Plot the distribution of sentiment categories."
   ]
  },
  {
   "cell_type": "code",
   "execution_count": null,
   "id": "cc17e1ed",
   "metadata": {},
   "outputs": [],
   "source": [
    "# Sentiment distribution\n",
    "sns.countplot(df['sentiment_category'])\n",
    "plt.title(\"Sentiment Distribution\")\n",
    "plt.show()"
   ]
  },
  {
   "cell_type": "code",
   "execution_count": null,
   "id": "8e4ebbec",
   "metadata": {},
   "outputs": [],
   "source": [
    "### 6.2 Feature Importance\n",
    "Visualize the importance of each feature in the Random Forest model."
   ]
  },
  {
   "cell_type": "code",
   "execution_count": null,
   "id": "1c128371",
   "metadata": {},
   "outputs": [],
   "source": [
    "# Feature importance\n",
    "importances = model.feature_importances_\n",
    "feature_names = X.columns\n",
    "\n",
    "sns.barplot(x=importances, y=feature_names)\n",
    "plt.title(\"Feature Importance\")\n",
    "plt.show()"
   ]
  }
 ],
 "metadata": {
  "kernelspec": {
   "display_name": "Python 3 (ipykernel)",
   "language": "python",
   "name": "python3"
  },
  "language_info": {
   "codemirror_mode": {
    "name": "ipython",
    "version": 3
   },
   "file_extension": ".py",
   "mimetype": "text/x-python",
   "name": "python",
   "nbconvert_exporter": "python",
   "pygments_lexer": "ipython3",
   "version": "3.11.5"
  }
 },
 "nbformat": 4,
 "nbformat_minor": 5
}
